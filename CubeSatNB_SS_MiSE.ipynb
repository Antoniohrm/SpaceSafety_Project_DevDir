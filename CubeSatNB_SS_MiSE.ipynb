{
 "cells": [
  {
   "attachments": {},
   "cell_type": "markdown",
   "metadata": {},
   "source": [
    "## Abstract\n",
    "\n",
    "##### Cubesats are becoming more popular by the day, as they provide an affordable way for universities and small companies to access space. Nevertheless, that also means that substantial amounts of new orbital objects are being launched to LEO every year. The goal of the analysis is to find whether most cubesats fly in similar orbits, and to find out which areas of LEO have a higher occupation of this kind of satellite. The used data is obtained from Celestrak and analyzed using Python."
   ]
  },
  {
   "attachments": {},
   "cell_type": "markdown",
   "metadata": {},
   "source": [
    "The necessary libraries are imported"
   ]
  },
  {
   "cell_type": "code",
   "execution_count": 61,
   "metadata": {},
   "outputs": [],
   "source": [
    "import urllib\n",
    "\n",
    "import numpy as np\n",
    "from matplotlib import pyplot as plt\n",
    "\n",
    "from tletools import TLE\n",
    "\n",
    "from astropy import units as u\n",
    "from poliastro.bodies import Earth, Sun\n",
    "from poliastro.twobody import Orbit\n",
    "from poliastro.plotting import OrbitPlotter3D\n",
    "\n",
    "import plotly.io as pio"
   ]
  },
  {
   "cell_type": "code",
   "execution_count": 62,
   "metadata": {},
   "outputs": [],
   "source": [
    "pio.renderers.default = 'plotly_mimetype+notebook_connected'"
   ]
  },
  {
   "attachments": {},
   "cell_type": "markdown",
   "metadata": {},
   "source": [
    "The following function removes all blanck spaces from the end of the string that it receives"
   ]
  },
  {
   "cell_type": "code",
   "execution_count": 63,
   "metadata": {},
   "outputs": [],
   "source": [
    "def remSpace(str):\n",
    "    if str[-1] == ' ':\n",
    "        return remSpace(str[:-1])\n",
    "    else:\n",
    "        return str"
   ]
  },
  {
   "attachments": {},
   "cell_type": "markdown",
   "metadata": {},
   "source": [
    "The text file with the TLE data is imported from the Celestrak website, as to always have the latest data\n",
    "\n",
    "Then, the text is transformed into a string array, removing the new line command and any blank space at the end of each string.\n",
    "\n",
    "Finally, the cubesats information is loaded into the *cubesats* TLE object array"
   ]
  },
  {
   "cell_type": "code",
   "execution_count": 64,
   "metadata": {},
   "outputs": [],
   "source": [
    "Cubesats_URL = 'https://celestrak.org/NORAD/elements/gp.php?GROUP=cubesat&FORMAT=tle'\n",
    "tle_text = urllib.request.urlopen(Cubesats_URL)\n",
    "#tle_text = open('Data/Cubesats.txt')\n",
    "tle_str = [remSpace(line.decode('UTF-8').replace('\\n', '')) for line in tle_text]\n",
    "\n",
    "cubesats = [TLE.from_lines(tle_str[i], tle_str[i + 1], tle_str[i + 2]) for i in range(0, len(tle_str), 3)]"
   ]
  },
  {
   "attachments": {},
   "cell_type": "markdown",
   "metadata": {},
   "source": [
    "The cubesats semi-major axis, inclinations and eccentricity are loaded into the *smas*, *incs* and *eccs* arrays, and their value distribution is plotted into histograms\n",
    "\n",
    "The average value of each one, plus the maximum value of the eccentricity is printed"
   ]
  },
  {
   "cell_type": "code",
   "execution_count": 65,
   "metadata": {},
   "outputs": [
    {
     "name": "stdout",
     "output_type": "stream",
     "text": [
      "The semi-major axis average and standard deviation are: 6899.09 km and 108.91 km\n",
      "The inclinations average and standard deviation are: 86.85º and 21.26º\n",
      "The eccentricities average and standard deviation are: 0.00395 and 0.00916\n",
      "The highest eccentricity is 0.06742\n"
     ]
    },
    {
     "data": {
      "image/png": "[encoded data removed]",
      "text/plain": [
       "<Figure size 640x480 with 3 Axes>"
      ]
     },
     "metadata": {},
     "output_type": "display_data"
    }
   ],
   "source": [
    "smas = [i.a for i in cubesats]\n",
    "incs = [i.inc for i in cubesats]\n",
    "eccs = [i.ecc for i in cubesats]\n",
    "\n",
    "fig1, ax1 = plt.subplots(1, 3)\n",
    "\n",
    "ax1[0].hist(smas, bins = 50)\n",
    "ax1[1].hist(incs, bins = 250)\n",
    "ax1[2].hist(eccs, bins = 50)\n",
    "\n",
    "print('The semi-major axis average and standard deviation are: {} km and {} km'.format(round(np.mean(smas), 2), round(np.std(smas), 2)))\n",
    "print('The inclinations average and standard deviation are: {}º and {}º'.format(round(np.mean(incs), 2), round(np.std(incs), 2)))\n",
    "print('The eccentricities average and standard deviation are: {} and {}'.format(round(np.mean(eccs), 5), round(np.std(eccs), 5)))\n",
    "print('The highest eccentricity is {}'.format(round(np.max(eccs), 5)))"
   ]
  },
  {
   "attachments": {},
   "cell_type": "markdown",
   "metadata": {},
   "source": [
    "The maximum and minimum heights above the earth are visualized to see whether the cubesats are in LEO"
   ]
  },
  {
   "cell_type": "code",
   "execution_count": 76,
   "metadata": {},
   "outputs": [
    {
     "data": {
      "image/png": "[encoded data removed]",
      "text/plain": [
       "<Figure size 640x480 with 1 Axes>"
      ]
     },
     "metadata": {},
     "output_type": "display_data"
    }
   ],
   "source": [
    "hmins = [(sat.a * (1 - sat.ecc)) - 6378 for sat in cubesats]\n",
    "hmaxs = [(sat.a * (1 + sat.ecc)) - 6378 for sat in cubesats]\n",
    "\n",
    "_ = plt.hist(hmins, bins = 100, edgecolor = 'k', alpha = 0.5)\n",
    "_ = plt.hist(hmaxs, bins = 100, edgecolor = 'k', alpha = 0.5)"
   ]
  },
  {
   "attachments": {},
   "cell_type": "markdown",
   "metadata": {},
   "source": [
    "The orbits are checked for whether they are sun-synchronous\n",
    "\n",
    "For that to be the case, the temporal variation of the Right-Angle Ascension Node (RAAN) should be of $360 \\degree $ per year, $1.1408 \\times 10^{-5} \\frac{\\degree }{s}$ or $1.991 \\times 10^{-7} \\frac{\\degree }{s}$\n",
    "\n",
    "The temporal increment in RAAN for an earth-orbiting body is the following, considering only the perturbation due to the $J_{2}$ term;\n",
    "\n",
    "\\begin{gather}\n",
    "\\frac{d \\Omega}{dt} \\approx - \\frac{3J_{2}R_{E}^{2}\\sqrt{\\mu }cos(i)}{2a^{\\frac{7}{2}}}\n",
    "\\end{gather}\n",
    "\n",
    "Where:\n",
    "\n",
    "- $R_{E}$ is radius of the earth\n",
    "- $\\mu $ is the gravitational parameter of the earth\n",
    "- $J_{2}$ is the coefficient for the second zonal term due to the earth's oblateness\n",
    "- $a$ is the semi-major axis of the orbit\n",
    "\n",
    "The cubesat are assesed by checking if their orbit RAAN variation is within $2 \\% $ of the nominal SSO value\n"
   ]
  },
  {
   "cell_type": "code",
   "execution_count": 105,
   "metadata": {},
   "outputs": [
    {
     "name": "stdout",
     "output_type": "stream",
     "text": [
      "The approximate number of cubesats that are in SSO is 52, accounting for 33.99% of the total\n"
     ]
    },
    {
     "data": {
      "image/png": "[encoded data removed]",
      "text/plain": [
       "<Figure size 640x480 with 1 Axes>"
      ]
     },
     "metadata": {},
     "output_type": "display_data"
    }
   ],
   "source": [
    "dRAANs = []\n",
    "\n",
    "ref_SSO = (2 * np.pi) / (365.24 * 24 * 3600)\n",
    "\n",
    "for sat in cubesats:\n",
    "    dRAANs.append((-3 * 1.08263e-3 * (6378e3 ** 2) * np.cos(sat.inc * (np.pi / 180)) * np.sqrt(3.986004e14)) / (2 * ((sat.a * 1000) ** (7 /2))))\n",
    "\n",
    "\n",
    "plt.hist(dRAANs, bins = 500)\n",
    "plt.axvline(ref_SSO, 0, 50, color = 'c', linestyle = 'dashed', linewidth = 1)\n",
    "\n",
    "sats_SSO = [((i > (ref_SSO * 0.98)) and (i < (ref_SSO * 1.02))) for i in dRAANs]\n",
    "count_SSO = np.count_nonzero(sats_SSO)\n",
    "print('The approximate number of cubesats that are in SSO is {}, accounting for {}% of the total'.format(count_SSO, round((count_SSO / len(dRAANs) * 100), 2)))\n",
    "\n"
   ]
  },
  {
   "attachments": {},
   "cell_type": "markdown",
   "metadata": {},
   "source": [
    "##### To get a better intuition of the orbit distribution, all of them are plotted together in an interactive 3D graph"
   ]
  },
  {
   "cell_type": "code",
   "execution_count": 68,
   "metadata": {},
   "outputs": [
    {
     "data": {
      "text/plain": [
       "'orbits = [sat.to_orbit() for sat in cubesats]\\n\\nframe = OrbitPlotter3D()\\n\\nfor orbit in orbits[:-1]:\\n    frame.plot(orbit)\\n\\nframe.plot(orbits[-1])'"
      ]
     },
     "execution_count": 68,
     "metadata": {},
     "output_type": "execute_result"
    }
   ],
   "source": [
    "'''orbits = [sat.to_orbit() for sat in cubesats]\n",
    "\n",
    "frame = OrbitPlotter3D()\n",
    "\n",
    "for orbit in orbits[:-1]:\n",
    "    frame.plot(orbit)\n",
    "\n",
    "frame.plot(orbits[-1])'''"
   ]
  }
 ],
 "metadata": {
  "kernelspec": {
   "display_name": "Engineering",
   "language": "python",
   "name": "python3"
  },
  "language_info": {
   "codemirror_mode": {
    "name": "ipython",
    "version": 3
   },
   "file_extension": ".py",
   "mimetype": "text/x-python",
   "name": "python",
   "nbconvert_exporter": "python",
   "pygments_lexer": "ipython3",
   "version": "3.10.9"
  },
  "orig_nbformat": 4,
  "vscode": {
   "interpreter": {
    "hash": "262fe23bd922d976477dd56294860e56b2094811b2a3343ffada31346c90c687"
   }
  }
 },
 "nbformat": 4,
 "nbformat_minor": 2
}
