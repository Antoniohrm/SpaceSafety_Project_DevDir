{
 "cells": [
  {
   "attachments": {},
   "cell_type": "markdown",
   "metadata": {},
   "source": [
    "## Abstract\n",
    "\n",
    "##### Cubesats are becoming more popular by the day, as they provide an affordable way for universities and small companies to access space. Nevertheless, that also means that substantial amounts of new orbital objects are being launched to LEO every year. The goal of the analysis is to find whether most cubesats fly in similar orbits, and to find out which areas of LEO have a higher occupation of this kind of satellite. The used data is obtained from Celestrak and analyzed using Python."
   ]
  },
  {
   "attachments": {},
   "cell_type": "markdown",
   "metadata": {},
   "source": [
    "##### The necessary libraries are imported"
   ]
  },
  {
   "cell_type": "code",
   "execution_count": 105,
   "metadata": {},
   "outputs": [],
   "source": [
    "import numpy as np\n",
    "from matplotlib import pyplot as plt\n",
    "from tletools import TLE"
   ]
  },
  {
   "attachments": {},
   "cell_type": "markdown",
   "metadata": {},
   "source": [
    "##### The following function removes all blanck spaces from the end of the string that it receives"
   ]
  },
  {
   "cell_type": "code",
   "execution_count": 98,
   "metadata": {},
   "outputs": [],
   "source": [
    "def remSpace(str):\n",
    "    if str[-1] == ' ':\n",
    "        return remSpace(str[:-1])\n",
    "    else:\n",
    "        return str"
   ]
  },
  {
   "attachments": {},
   "cell_type": "markdown",
   "metadata": {},
   "source": [
    "##### The text file with the TLE data is imported and transformed into a string array, removing the new line command and any blank space at the end of each string. Then, the cubesats information is loaded into the *cubesats* TLE object array"
   ]
  },
  {
   "cell_type": "code",
   "execution_count": 102,
   "metadata": {},
   "outputs": [],
   "source": [
    "tle_text = open('Data/Cubesats.txt')\n",
    "tle_str = [remSpace(line.replace('\\n', '')) for line in tle_text]\n",
    "\n",
    "cubesats = [TLE.from_lines(tle_str[i], tle_str[i + 1], tle_str[i + 2]) for i in range(0, len(tle_str), 3)]"
   ]
  },
  {
   "cell_type": "code",
   "execution_count": 104,
   "metadata": {},
   "outputs": [],
   "source": [
    "incs = [i.inc for i in cubesats]"
   ]
  }
 ],
 "metadata": {
  "kernelspec": {
   "display_name": "Engineering",
   "language": "python",
   "name": "python3"
  },
  "language_info": {
   "codemirror_mode": {
    "name": "ipython",
    "version": 3
   },
   "file_extension": ".py",
   "mimetype": "text/x-python",
   "name": "python",
   "nbconvert_exporter": "python",
   "pygments_lexer": "ipython3",
   "version": "3.10.9"
  },
  "orig_nbformat": 4,
  "vscode": {
   "interpreter": {
    "hash": "262fe23bd922d976477dd56294860e56b2094811b2a3343ffada31346c90c687"
   }
  }
 },
 "nbformat": 4,
 "nbformat_minor": 2
}
